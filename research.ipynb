{
 "cells": [
  {
   "cell_type": "markdown",
   "metadata": {},
   "source": [
    "### Обнаружение людей на видео"
   ]
  },
  {
   "cell_type": "markdown",
   "metadata": {},
   "source": [
    "Для начала подготовим необходимые функции.  \n",
    "Импортируем openCV и напишем функцию, с помощью которой можно обнаруживать людей на видео и сохранять результат"
   ]
  },
  {
   "cell_type": "code",
   "execution_count": null,
   "metadata": {},
   "outputs": [],
   "source": [
    "import cv2\n",
    "\n",
    "def get_video_with_people(input_path, output_path ,model, get_bboxes_func, desired_class):\n",
    "\n",
    "    # Инициализация \n",
    "    cap = cv2.VideoCapture(input_path)\n",
    "\n",
    "    # Проверка, успешно ли открыто видео\n",
    "    if not cap.isOpened():\n",
    "        print(\"Не удалось открыть видео\")\n",
    "        exit()\n",
    "        \n",
    "\n",
    "    fps = cap.get(cv2.CAP_PROP_FPS)\n",
    "    width = int(cap.get(cv2.CAP_PROP_FRAME_WIDTH))\n",
    "    height = int(cap.get(cv2.CAP_PROP_FRAME_HEIGHT))\n",
    "\n",
    "\n",
    "    # Создание объекта VideoWriter для сохранения результата\n",
    "    fourcc = cv2.VideoWriter_fourcc(*'mp4v')  # Кодек для MP4\n",
    "    out = cv2.VideoWriter(output_path, fourcc, fps, (width, height))\n",
    "\n",
    "    while True:\n",
    "        # Захват кадра \n",
    "        ret, frame = cap.read()\n",
    "     \n",
    "        boxes, classes, confidences = get_bboxes_func(model, frame)\n",
    "        \n",
    "        for box, cls, conf in zip(boxes, classes, confidences):\n",
    "            x1, y1, x2, y2 = map(int, box)  # Преобразование координат в целые числа\n",
    "            \n",
    "            # Проверка, что объект - человек\n",
    "            if cls == desired_class:\n",
    "                # Отрисовка bounding box\n",
    "                cv2.rectangle(frame, (x1, y1), (x2, y2), (0, 255, 0), 2)\n",
    "                \n",
    "                # Добавление текста с классом и уверенностью\n",
    "                label = f\"Person {conf:.2f}\"\n",
    "                cv2.putText(frame, label, (x1, y1 - 10), cv2.FONT_HERSHEY_SIMPLEX, 0.9, (0, 255, 0), 2)\n",
    "\n",
    "\n",
    "        # Ресайз\n",
    "        scale = 0.5\n",
    "        frame_resized = cv2.resize(frame, (-1, -1), fx=scale, fy=scale)\n",
    "\n",
    "        # Отображение кадра\n",
    "        cv2.imshow('video', frame_resized)\n",
    "\n",
    "        # Запись кадра в выходной видеофайл\n",
    "        out.write(frame)\n",
    "\n",
    "        # Выход из цикла по нажатию клавиши 'q'\n",
    "        if cv2.waitKey(1) & 0xFF == ord('q'):\n",
    "            break\n",
    "\n",
    "    # Освобождение ресурсов\n",
    "    cap.release()\n",
    "    out.release()\n",
    "    cv2.destroyAllWindows()\n",
    "\n",
    "    print( f\"Видео обработано и сохранено в файл: {output_path}\"  )\n",
    "\n",
    "    "
   ]
  },
  {
   "cell_type": "markdown",
   "metadata": {},
   "source": [
    "Функция для получения bounding boxes моделей yolo"
   ]
  },
  {
   "cell_type": "code",
   "execution_count": 2,
   "metadata": {},
   "outputs": [],
   "source": [
    "def get_bboxes_yolo(model, img, imgsz = 640, conf = 0.4, iou = 0.7):\n",
    "    results = model(img,\n",
    "    imgsz = imgsz,\n",
    "    conf = conf,\n",
    "    iou = iou,\n",
    "    verbose = False\n",
    "    )\n",
    "    for result in results:\n",
    "        boxes = result.boxes.xyxy.cpu().numpy()\n",
    "        classes = result.boxes.cls.cpu().numpy()\n",
    "        confidences = result.boxes.conf.cpu().numpy()\n",
    "    return boxes, classes, confidences"
   ]
  },
  {
   "cell_type": "code",
   "execution_count": 3,
   "metadata": {},
   "outputs": [],
   "source": [
    "from ultralytics import YOLO"
   ]
  },
  {
   "cell_type": "code",
   "execution_count": null,
   "metadata": {},
   "outputs": [
    {
     "ename": "",
     "evalue": "",
     "output_type": "error",
     "traceback": [
      "\u001b[1;31mThe Kernel crashed while executing code in the current cell or a previous cell. \n",
      "\u001b[1;31mPlease review the code in the cell(s) to identify a possible cause of the failure. \n",
      "\u001b[1;31mClick <a href='https://aka.ms/vscodeJupyterKernelCrash'>here</a> for more info. \n",
      "\u001b[1;31mView Jupyter <a href='command:jupyter.viewOutput'>log</a> for further details."
     ]
    }
   ],
   "source": [
    "\n",
    "FILE_PATH = 'crowd.mp4'"
   ]
  },
  {
   "cell_type": "markdown",
   "metadata": {},
   "source": [
    "В качестве моделей для задачи детекции возьмем модели YOLOv11 nano - самую легковесную, а также YOLOv11 extra large - самую тяжелую"
   ]
  },
  {
   "cell_type": "code",
   "execution_count": null,
   "metadata": {},
   "outputs": [
    {
     "name": "stdout",
     "output_type": "stream",
     "text": [
      "WARNING  'source' is missing. Using 'source=C:\\Users\\79252\\Desktop\\\\   2025\\env\\Lib\\site-packages\\ultralytics\\assets'.\n",
      "WARNING  'source' is missing. Using 'source=C:\\Users\\79252\\Desktop\\\\   2025\\env\\Lib\\site-packages\\ultralytics\\assets'.\n",
      "WARNING  'source' is missing. Using 'source=C:\\Users\\79252\\Desktop\\\\   2025\\env\\Lib\\site-packages\\ultralytics\\assets'.\n",
      "WARNING  'source' is missing. Using 'source=C:\\Users\\79252\\Desktop\\\\   2025\\env\\Lib\\site-packages\\ultralytics\\assets'.\n",
      "WARNING  'source' is missing. Using 'source=C:\\Users\\79252\\Desktop\\\\   2025\\env\\Lib\\site-packages\\ultralytics\\assets'.\n",
      "WARNING  'source' is missing. Using 'source=C:\\Users\\79252\\Desktop\\\\   2025\\env\\Lib\\site-packages\\ultralytics\\assets'.\n",
      "WARNING  'source' is missing. Using 'source=C:\\Users\\79252\\Desktop\\\\   2025\\env\\Lib\\site-packages\\ultralytics\\assets'.\n",
      "WARNING  'source' is missing. Using 'source=C:\\Users\\79252\\Desktop\\\\   2025\\env\\Lib\\site-packages\\ultralytics\\assets'.\n",
      "WARNING  'source' is missing. Using 'source=C:\\Users\\79252\\Desktop\\\\   2025\\env\\Lib\\site-packages\\ultralytics\\assets'.\n",
      "WARNING  'source' is missing. Using 'source=C:\\Users\\79252\\Desktop\\\\   2025\\env\\Lib\\site-packages\\ultralytics\\assets'.\n",
      "WARNING  'source' is missing. Using 'source=C:\\Users\\79252\\Desktop\\\\   2025\\env\\Lib\\site-packages\\ultralytics\\assets'.\n",
      "WARNING  'source' is missing. Using 'source=C:\\Users\\79252\\Desktop\\\\   2025\\env\\Lib\\site-packages\\ultralytics\\assets'.\n",
      "WARNING  'source' is missing. Using 'source=C:\\Users\\79252\\Desktop\\\\   2025\\env\\Lib\\site-packages\\ultralytics\\assets'.\n",
      "WARNING  'source' is missing. Using 'source=C:\\Users\\79252\\Desktop\\\\   2025\\env\\Lib\\site-packages\\ultralytics\\assets'.\n",
      "WARNING  'source' is missing. Using 'source=C:\\Users\\79252\\Desktop\\\\   2025\\env\\Lib\\site-packages\\ultralytics\\assets'.\n",
      "WARNING  'source' is missing. Using 'source=C:\\Users\\79252\\Desktop\\\\   2025\\env\\Lib\\site-packages\\ultralytics\\assets'.\n",
      "WARNING  'source' is missing. Using 'source=C:\\Users\\79252\\Desktop\\\\   2025\\env\\Lib\\site-packages\\ultralytics\\assets'.\n",
      "WARNING  'source' is missing. Using 'source=C:\\Users\\79252\\Desktop\\\\   2025\\env\\Lib\\site-packages\\ultralytics\\assets'.\n",
      "WARNING  'source' is missing. Using 'source=C:\\Users\\79252\\Desktop\\\\   2025\\env\\Lib\\site-packages\\ultralytics\\assets'.\n",
      "WARNING  'source' is missing. Using 'source=C:\\Users\\79252\\Desktop\\\\   2025\\env\\Lib\\site-packages\\ultralytics\\assets'.\n",
      "WARNING  'source' is missing. Using 'source=C:\\Users\\79252\\Desktop\\\\   2025\\env\\Lib\\site-packages\\ultralytics\\assets'.\n",
      "WARNING  'source' is missing. Using 'source=C:\\Users\\79252\\Desktop\\\\   2025\\env\\Lib\\site-packages\\ultralytics\\assets'.\n",
      "WARNING  'source' is missing. Using 'source=C:\\Users\\79252\\Desktop\\\\   2025\\env\\Lib\\site-packages\\ultralytics\\assets'.\n",
      "WARNING  'source' is missing. Using 'source=C:\\Users\\79252\\Desktop\\\\   2025\\env\\Lib\\site-packages\\ultralytics\\assets'.\n",
      "WARNING  'source' is missing. Using 'source=C:\\Users\\79252\\Desktop\\\\   2025\\env\\Lib\\site-packages\\ultralytics\\assets'.\n",
      "WARNING  'source' is missing. Using 'source=C:\\Users\\79252\\Desktop\\\\   2025\\env\\Lib\\site-packages\\ultralytics\\assets'.\n",
      "WARNING  'source' is missing. Using 'source=C:\\Users\\79252\\Desktop\\\\   2025\\env\\Lib\\site-packages\\ultralytics\\assets'.\n",
      "WARNING  'source' is missing. Using 'source=C:\\Users\\79252\\Desktop\\\\   2025\\env\\Lib\\site-packages\\ultralytics\\assets'.\n",
      "WARNING  'source' is missing. Using 'source=C:\\Users\\79252\\Desktop\\\\   2025\\env\\Lib\\site-packages\\ultralytics\\assets'.\n",
      "WARNING  'source' is missing. Using 'source=C:\\Users\\79252\\Desktop\\\\   2025\\env\\Lib\\site-packages\\ultralytics\\assets'.\n",
      "WARNING  'source' is missing. Using 'source=C:\\Users\\79252\\Desktop\\\\   2025\\env\\Lib\\site-packages\\ultralytics\\assets'.\n",
      "WARNING  'source' is missing. Using 'source=C:\\Users\\79252\\Desktop\\\\   2025\\env\\Lib\\site-packages\\ultralytics\\assets'.\n",
      "WARNING  'source' is missing. Using 'source=C:\\Users\\79252\\Desktop\\\\   2025\\env\\Lib\\site-packages\\ultralytics\\assets'.\n",
      "WARNING  'source' is missing. Using 'source=C:\\Users\\79252\\Desktop\\\\   2025\\env\\Lib\\site-packages\\ultralytics\\assets'.\n",
      "WARNING  'source' is missing. Using 'source=C:\\Users\\79252\\Desktop\\\\   2025\\env\\Lib\\site-packages\\ultralytics\\assets'.\n",
      "WARNING  'source' is missing. Using 'source=C:\\Users\\79252\\Desktop\\\\   2025\\env\\Lib\\site-packages\\ultralytics\\assets'.\n",
      "WARNING  'source' is missing. Using 'source=C:\\Users\\79252\\Desktop\\\\   2025\\env\\Lib\\site-packages\\ultralytics\\assets'.\n",
      "WARNING  'source' is missing. Using 'source=C:\\Users\\79252\\Desktop\\\\   2025\\env\\Lib\\site-packages\\ultralytics\\assets'.\n",
      "WARNING  'source' is missing. Using 'source=C:\\Users\\79252\\Desktop\\\\   2025\\env\\Lib\\site-packages\\ultralytics\\assets'.\n",
      "WARNING  'source' is missing. Using 'source=C:\\Users\\79252\\Desktop\\\\   2025\\env\\Lib\\site-packages\\ultralytics\\assets'.\n",
      "WARNING  'source' is missing. Using 'source=C:\\Users\\79252\\Desktop\\\\   2025\\env\\Lib\\site-packages\\ultralytics\\assets'.\n",
      "WARNING  'source' is missing. Using 'source=C:\\Users\\79252\\Desktop\\\\   2025\\env\\Lib\\site-packages\\ultralytics\\assets'.\n",
      "WARNING  'source' is missing. Using 'source=C:\\Users\\79252\\Desktop\\\\   2025\\env\\Lib\\site-packages\\ultralytics\\assets'.\n",
      "WARNING  'source' is missing. Using 'source=C:\\Users\\79252\\Desktop\\\\   2025\\env\\Lib\\site-packages\\ultralytics\\assets'.\n",
      "WARNING  'source' is missing. Using 'source=C:\\Users\\79252\\Desktop\\\\   2025\\env\\Lib\\site-packages\\ultralytics\\assets'.\n",
      "WARNING  'source' is missing. Using 'source=C:\\Users\\79252\\Desktop\\\\   2025\\env\\Lib\\site-packages\\ultralytics\\assets'.\n",
      "WARNING  'source' is missing. Using 'source=C:\\Users\\79252\\Desktop\\\\   2025\\env\\Lib\\site-packages\\ultralytics\\assets'.\n",
      "WARNING  'source' is missing. Using 'source=C:\\Users\\79252\\Desktop\\\\   2025\\env\\Lib\\site-packages\\ultralytics\\assets'.\n",
      "WARNING  'source' is missing. Using 'source=C:\\Users\\79252\\Desktop\\\\   2025\\env\\Lib\\site-packages\\ultralytics\\assets'.\n",
      "WARNING  'source' is missing. Using 'source=C:\\Users\\79252\\Desktop\\\\   2025\\env\\Lib\\site-packages\\ultralytics\\assets'.\n",
      "WARNING  'source' is missing. Using 'source=C:\\Users\\79252\\Desktop\\\\   2025\\env\\Lib\\site-packages\\ultralytics\\assets'.\n",
      "WARNING  'source' is missing. Using 'source=C:\\Users\\79252\\Desktop\\\\   2025\\env\\Lib\\site-packages\\ultralytics\\assets'.\n",
      "WARNING  'source' is missing. Using 'source=C:\\Users\\79252\\Desktop\\\\   2025\\env\\Lib\\site-packages\\ultralytics\\assets'.\n",
      "WARNING  'source' is missing. Using 'source=C:\\Users\\79252\\Desktop\\\\   2025\\env\\Lib\\site-packages\\ultralytics\\assets'.\n",
      "WARNING  'source' is missing. Using 'source=C:\\Users\\79252\\Desktop\\\\   2025\\env\\Lib\\site-packages\\ultralytics\\assets'.\n",
      "WARNING  'source' is missing. Using 'source=C:\\Users\\79252\\Desktop\\\\   2025\\env\\Lib\\site-packages\\ultralytics\\assets'.\n",
      "WARNING  'source' is missing. Using 'source=C:\\Users\\79252\\Desktop\\\\   2025\\env\\Lib\\site-packages\\ultralytics\\assets'.\n",
      "WARNING  'source' is missing. Using 'source=C:\\Users\\79252\\Desktop\\\\   2025\\env\\Lib\\site-packages\\ultralytics\\assets'.\n",
      "WARNING  'source' is missing. Using 'source=C:\\Users\\79252\\Desktop\\\\   2025\\env\\Lib\\site-packages\\ultralytics\\assets'.\n",
      "WARNING  'source' is missing. Using 'source=C:\\Users\\79252\\Desktop\\\\   2025\\env\\Lib\\site-packages\\ultralytics\\assets'.\n",
      "WARNING  'source' is missing. Using 'source=C:\\Users\\79252\\Desktop\\\\   2025\\env\\Lib\\site-packages\\ultralytics\\assets'.\n",
      "WARNING  'source' is missing. Using 'source=C:\\Users\\79252\\Desktop\\\\   2025\\env\\Lib\\site-packages\\ultralytics\\assets'.\n",
      "WARNING  'source' is missing. Using 'source=C:\\Users\\79252\\Desktop\\\\   2025\\env\\Lib\\site-packages\\ultralytics\\assets'.\n",
      "WARNING  'source' is missing. Using 'source=C:\\Users\\79252\\Desktop\\\\   2025\\env\\Lib\\site-packages\\ultralytics\\assets'.\n",
      "WARNING  'source' is missing. Using 'source=C:\\Users\\79252\\Desktop\\\\   2025\\env\\Lib\\site-packages\\ultralytics\\assets'.\n",
      "WARNING  'source' is missing. Using 'source=C:\\Users\\79252\\Desktop\\\\   2025\\env\\Lib\\site-packages\\ultralytics\\assets'.\n",
      "WARNING  'source' is missing. Using 'source=C:\\Users\\79252\\Desktop\\\\   2025\\env\\Lib\\site-packages\\ultralytics\\assets'.\n",
      "WARNING  'source' is missing. Using 'source=C:\\Users\\79252\\Desktop\\\\   2025\\env\\Lib\\site-packages\\ultralytics\\assets'.\n",
      "WARNING  'source' is missing. Using 'source=C:\\Users\\79252\\Desktop\\\\   2025\\env\\Lib\\site-packages\\ultralytics\\assets'.\n",
      "WARNING  'source' is missing. Using 'source=C:\\Users\\79252\\Desktop\\\\   2025\\env\\Lib\\site-packages\\ultralytics\\assets'.\n",
      "WARNING  'source' is missing. Using 'source=C:\\Users\\79252\\Desktop\\\\   2025\\env\\Lib\\site-packages\\ultralytics\\assets'.\n",
      "WARNING  'source' is missing. Using 'source=C:\\Users\\79252\\Desktop\\\\   2025\\env\\Lib\\site-packages\\ultralytics\\assets'.\n",
      "WARNING  'source' is missing. Using 'source=C:\\Users\\79252\\Desktop\\\\   2025\\env\\Lib\\site-packages\\ultralytics\\assets'.\n",
      "WARNING  'source' is missing. Using 'source=C:\\Users\\79252\\Desktop\\\\   2025\\env\\Lib\\site-packages\\ultralytics\\assets'.\n",
      "WARNING  'source' is missing. Using 'source=C:\\Users\\79252\\Desktop\\\\   2025\\env\\Lib\\site-packages\\ultralytics\\assets'.\n",
      "WARNING  'source' is missing. Using 'source=C:\\Users\\79252\\Desktop\\\\   2025\\env\\Lib\\site-packages\\ultralytics\\assets'.\n",
      "WARNING  'source' is missing. Using 'source=C:\\Users\\79252\\Desktop\\\\   2025\\env\\Lib\\site-packages\\ultralytics\\assets'.\n",
      "WARNING  'source' is missing. Using 'source=C:\\Users\\79252\\Desktop\\\\   2025\\env\\Lib\\site-packages\\ultralytics\\assets'.\n",
      "WARNING  'source' is missing. Using 'source=C:\\Users\\79252\\Desktop\\\\   2025\\env\\Lib\\site-packages\\ultralytics\\assets'.\n",
      "WARNING  'source' is missing. Using 'source=C:\\Users\\79252\\Desktop\\\\   2025\\env\\Lib\\site-packages\\ultralytics\\assets'.\n",
      "WARNING  'source' is missing. Using 'source=C:\\Users\\79252\\Desktop\\\\   2025\\env\\Lib\\site-packages\\ultralytics\\assets'.\n",
      "WARNING  'source' is missing. Using 'source=C:\\Users\\79252\\Desktop\\\\   2025\\env\\Lib\\site-packages\\ultralytics\\assets'.\n",
      "WARNING  'source' is missing. Using 'source=C:\\Users\\79252\\Desktop\\\\   2025\\env\\Lib\\site-packages\\ultralytics\\assets'.\n",
      "WARNING  'source' is missing. Using 'source=C:\\Users\\79252\\Desktop\\\\   2025\\env\\Lib\\site-packages\\ultralytics\\assets'.\n",
      "WARNING  'source' is missing. Using 'source=C:\\Users\\79252\\Desktop\\\\   2025\\env\\Lib\\site-packages\\ultralytics\\assets'.\n",
      "WARNING  'source' is missing. Using 'source=C:\\Users\\79252\\Desktop\\\\   2025\\env\\Lib\\site-packages\\ultralytics\\assets'.\n",
      "WARNING  'source' is missing. Using 'source=C:\\Users\\79252\\Desktop\\\\   2025\\env\\Lib\\site-packages\\ultralytics\\assets'.\n",
      "WARNING  'source' is missing. Using 'source=C:\\Users\\79252\\Desktop\\\\   2025\\env\\Lib\\site-packages\\ultralytics\\assets'.\n",
      "WARNING  'source' is missing. Using 'source=C:\\Users\\79252\\Desktop\\\\   2025\\env\\Lib\\site-packages\\ultralytics\\assets'.\n",
      "WARNING  'source' is missing. Using 'source=C:\\Users\\79252\\Desktop\\\\   2025\\env\\Lib\\site-packages\\ultralytics\\assets'.\n",
      "WARNING  'source' is missing. Using 'source=C:\\Users\\79252\\Desktop\\\\   2025\\env\\Lib\\site-packages\\ultralytics\\assets'.\n",
      "WARNING  'source' is missing. Using 'source=C:\\Users\\79252\\Desktop\\\\   2025\\env\\Lib\\site-packages\\ultralytics\\assets'.\n",
      "WARNING  'source' is missing. Using 'source=C:\\Users\\79252\\Desktop\\\\   2025\\env\\Lib\\site-packages\\ultralytics\\assets'.\n",
      "WARNING  'source' is missing. Using 'source=C:\\Users\\79252\\Desktop\\\\   2025\\env\\Lib\\site-packages\\ultralytics\\assets'.\n",
      "WARNING  'source' is missing. Using 'source=C:\\Users\\79252\\Desktop\\\\   2025\\env\\Lib\\site-packages\\ultralytics\\assets'.\n",
      "WARNING  'source' is missing. Using 'source=C:\\Users\\79252\\Desktop\\\\   2025\\env\\Lib\\site-packages\\ultralytics\\assets'.\n",
      "WARNING  'source' is missing. Using 'source=C:\\Users\\79252\\Desktop\\\\   2025\\env\\Lib\\site-packages\\ultralytics\\assets'.\n",
      "WARNING  'source' is missing. Using 'source=C:\\Users\\79252\\Desktop\\\\   2025\\env\\Lib\\site-packages\\ultralytics\\assets'.\n",
      "WARNING  'source' is missing. Using 'source=C:\\Users\\79252\\Desktop\\\\   2025\\env\\Lib\\site-packages\\ultralytics\\assets'.\n",
      "WARNING  'source' is missing. Using 'source=C:\\Users\\79252\\Desktop\\\\   2025\\env\\Lib\\site-packages\\ultralytics\\assets'.\n",
      "WARNING  'source' is missing. Using 'source=C:\\Users\\79252\\Desktop\\\\   2025\\env\\Lib\\site-packages\\ultralytics\\assets'.\n",
      "WARNING  'source' is missing. Using 'source=C:\\Users\\79252\\Desktop\\\\   2025\\env\\Lib\\site-packages\\ultralytics\\assets'.\n",
      "WARNING  'source' is missing. Using 'source=C:\\Users\\79252\\Desktop\\\\   2025\\env\\Lib\\site-packages\\ultralytics\\assets'.\n",
      "WARNING  'source' is missing. Using 'source=C:\\Users\\79252\\Desktop\\\\   2025\\env\\Lib\\site-packages\\ultralytics\\assets'.\n",
      "WARNING  'source' is missing. Using 'source=C:\\Users\\79252\\Desktop\\\\   2025\\env\\Lib\\site-packages\\ultralytics\\assets'.\n",
      "WARNING  'source' is missing. Using 'source=C:\\Users\\79252\\Desktop\\\\   2025\\env\\Lib\\site-packages\\ultralytics\\assets'.\n",
      "WARNING  'source' is missing. Using 'source=C:\\Users\\79252\\Desktop\\\\   2025\\env\\Lib\\site-packages\\ultralytics\\assets'.\n",
      "WARNING  'source' is missing. Using 'source=C:\\Users\\79252\\Desktop\\\\   2025\\env\\Lib\\site-packages\\ultralytics\\assets'.\n",
      "WARNING  'source' is missing. Using 'source=C:\\Users\\79252\\Desktop\\\\   2025\\env\\Lib\\site-packages\\ultralytics\\assets'.\n",
      "WARNING  'source' is missing. Using 'source=C:\\Users\\79252\\Desktop\\\\   2025\\env\\Lib\\site-packages\\ultralytics\\assets'.\n",
      "WARNING  'source' is missing. Using 'source=C:\\Users\\79252\\Desktop\\\\   2025\\env\\Lib\\site-packages\\ultralytics\\assets'.\n",
      "WARNING  'source' is missing. Using 'source=C:\\Users\\79252\\Desktop\\\\   2025\\env\\Lib\\site-packages\\ultralytics\\assets'.\n",
      "WARNING  'source' is missing. Using 'source=C:\\Users\\79252\\Desktop\\\\   2025\\env\\Lib\\site-packages\\ultralytics\\assets'.\n",
      "WARNING  'source' is missing. Using 'source=C:\\Users\\79252\\Desktop\\\\   2025\\env\\Lib\\site-packages\\ultralytics\\assets'.\n",
      "WARNING  'source' is missing. Using 'source=C:\\Users\\79252\\Desktop\\\\   2025\\env\\Lib\\site-packages\\ultralytics\\assets'.\n",
      "WARNING  'source' is missing. Using 'source=C:\\Users\\79252\\Desktop\\\\   2025\\env\\Lib\\site-packages\\ultralytics\\assets'.\n",
      "WARNING  'source' is missing. Using 'source=C:\\Users\\79252\\Desktop\\\\   2025\\env\\Lib\\site-packages\\ultralytics\\assets'.\n",
      "WARNING  'source' is missing. Using 'source=C:\\Users\\79252\\Desktop\\\\   2025\\env\\Lib\\site-packages\\ultralytics\\assets'.\n",
      "WARNING  'source' is missing. Using 'source=C:\\Users\\79252\\Desktop\\\\   2025\\env\\Lib\\site-packages\\ultralytics\\assets'.\n",
      "WARNING  'source' is missing. Using 'source=C:\\Users\\79252\\Desktop\\\\   2025\\env\\Lib\\site-packages\\ultralytics\\assets'.\n",
      "WARNING  'source' is missing. Using 'source=C:\\Users\\79252\\Desktop\\\\   2025\\env\\Lib\\site-packages\\ultralytics\\assets'.\n",
      "WARNING  'source' is missing. Using 'source=C:\\Users\\79252\\Desktop\\\\   2025\\env\\Lib\\site-packages\\ultralytics\\assets'.\n",
      "WARNING  'source' is missing. Using 'source=C:\\Users\\79252\\Desktop\\\\   2025\\env\\Lib\\site-packages\\ultralytics\\assets'.\n",
      "WARNING  'source' is missing. Using 'source=C:\\Users\\79252\\Desktop\\\\   2025\\env\\Lib\\site-packages\\ultralytics\\assets'.\n",
      "WARNING  'source' is missing. Using 'source=C:\\Users\\79252\\Desktop\\\\   2025\\env\\Lib\\site-packages\\ultralytics\\assets'.\n",
      "WARNING  'source' is missing. Using 'source=C:\\Users\\79252\\Desktop\\\\   2025\\env\\Lib\\site-packages\\ultralytics\\assets'.\n",
      "WARNING  'source' is missing. Using 'source=C:\\Users\\79252\\Desktop\\\\   2025\\env\\Lib\\site-packages\\ultralytics\\assets'.\n",
      "WARNING  'source' is missing. Using 'source=C:\\Users\\79252\\Desktop\\\\   2025\\env\\Lib\\site-packages\\ultralytics\\assets'.\n",
      "WARNING  'source' is missing. Using 'source=C:\\Users\\79252\\Desktop\\\\   2025\\env\\Lib\\site-packages\\ultralytics\\assets'.\n",
      "WARNING  'source' is missing. Using 'source=C:\\Users\\79252\\Desktop\\\\   2025\\env\\Lib\\site-packages\\ultralytics\\assets'.\n",
      "WARNING  'source' is missing. Using 'source=C:\\Users\\79252\\Desktop\\\\   2025\\env\\Lib\\site-packages\\ultralytics\\assets'.\n",
      "WARNING  'source' is missing. Using 'source=C:\\Users\\79252\\Desktop\\\\   2025\\env\\Lib\\site-packages\\ultralytics\\assets'.\n",
      "WARNING  'source' is missing. Using 'source=C:\\Users\\79252\\Desktop\\\\   2025\\env\\Lib\\site-packages\\ultralytics\\assets'.\n",
      "WARNING  'source' is missing. Using 'source=C:\\Users\\79252\\Desktop\\\\   2025\\env\\Lib\\site-packages\\ultralytics\\assets'.\n",
      "WARNING  'source' is missing. Using 'source=C:\\Users\\79252\\Desktop\\\\   2025\\env\\Lib\\site-packages\\ultralytics\\assets'.\n",
      "WARNING  'source' is missing. Using 'source=C:\\Users\\79252\\Desktop\\\\   2025\\env\\Lib\\site-packages\\ultralytics\\assets'.\n",
      "WARNING  'source' is missing. Using 'source=C:\\Users\\79252\\Desktop\\\\   2025\\env\\Lib\\site-packages\\ultralytics\\assets'.\n",
      "WARNING  'source' is missing. Using 'source=C:\\Users\\79252\\Desktop\\\\   2025\\env\\Lib\\site-packages\\ultralytics\\assets'.\n",
      "WARNING  'source' is missing. Using 'source=C:\\Users\\79252\\Desktop\\\\   2025\\env\\Lib\\site-packages\\ultralytics\\assets'.\n",
      "WARNING  'source' is missing. Using 'source=C:\\Users\\79252\\Desktop\\\\   2025\\env\\Lib\\site-packages\\ultralytics\\assets'.\n",
      "WARNING  'source' is missing. Using 'source=C:\\Users\\79252\\Desktop\\\\   2025\\env\\Lib\\site-packages\\ultralytics\\assets'.\n",
      "WARNING  'source' is missing. Using 'source=C:\\Users\\79252\\Desktop\\\\   2025\\env\\Lib\\site-packages\\ultralytics\\assets'.\n",
      "WARNING  'source' is missing. Using 'source=C:\\Users\\79252\\Desktop\\\\   2025\\env\\Lib\\site-packages\\ultralytics\\assets'.\n",
      "WARNING  'source' is missing. Using 'source=C:\\Users\\79252\\Desktop\\\\   2025\\env\\Lib\\site-packages\\ultralytics\\assets'.\n",
      "WARNING  'source' is missing. Using 'source=C:\\Users\\79252\\Desktop\\\\   2025\\env\\Lib\\site-packages\\ultralytics\\assets'.\n",
      "WARNING  'source' is missing. Using 'source=C:\\Users\\79252\\Desktop\\\\   2025\\env\\Lib\\site-packages\\ultralytics\\assets'.\n",
      "WARNING  'source' is missing. Using 'source=C:\\Users\\79252\\Desktop\\\\   2025\\env\\Lib\\site-packages\\ultralytics\\assets'.\n",
      "WARNING  'source' is missing. Using 'source=C:\\Users\\79252\\Desktop\\\\   2025\\env\\Lib\\site-packages\\ultralytics\\assets'.\n",
      "WARNING  'source' is missing. Using 'source=C:\\Users\\79252\\Desktop\\\\   2025\\env\\Lib\\site-packages\\ultralytics\\assets'.\n",
      "WARNING  'source' is missing. Using 'source=C:\\Users\\79252\\Desktop\\\\   2025\\env\\Lib\\site-packages\\ultralytics\\assets'.\n",
      "WARNING  'source' is missing. Using 'source=C:\\Users\\79252\\Desktop\\\\   2025\\env\\Lib\\site-packages\\ultralytics\\assets'.\n",
      "WARNING  'source' is missing. Using 'source=C:\\Users\\79252\\Desktop\\\\   2025\\env\\Lib\\site-packages\\ultralytics\\assets'.\n",
      "WARNING  'source' is missing. Using 'source=C:\\Users\\79252\\Desktop\\\\   2025\\env\\Lib\\site-packages\\ultralytics\\assets'.\n",
      "WARNING  'source' is missing. Using 'source=C:\\Users\\79252\\Desktop\\\\   2025\\env\\Lib\\site-packages\\ultralytics\\assets'.\n",
      "WARNING  'source' is missing. Using 'source=C:\\Users\\79252\\Desktop\\\\   2025\\env\\Lib\\site-packages\\ultralytics\\assets'.\n",
      "WARNING  'source' is missing. Using 'source=C:\\Users\\79252\\Desktop\\\\   2025\\env\\Lib\\site-packages\\ultralytics\\assets'.\n",
      "WARNING  'source' is missing. Using 'source=C:\\Users\\79252\\Desktop\\\\   2025\\env\\Lib\\site-packages\\ultralytics\\assets'.\n",
      "WARNING  'source' is missing. Using 'source=C:\\Users\\79252\\Desktop\\\\   2025\\env\\Lib\\site-packages\\ultralytics\\assets'.\n",
      "WARNING  'source' is missing. Using 'source=C:\\Users\\79252\\Desktop\\\\   2025\\env\\Lib\\site-packages\\ultralytics\\assets'.\n",
      "WARNING  'source' is missing. Using 'source=C:\\Users\\79252\\Desktop\\\\   2025\\env\\Lib\\site-packages\\ultralytics\\assets'.\n",
      "WARNING  'source' is missing. Using 'source=C:\\Users\\79252\\Desktop\\\\   2025\\env\\Lib\\site-packages\\ultralytics\\assets'.\n",
      "WARNING  'source' is missing. Using 'source=C:\\Users\\79252\\Desktop\\\\   2025\\env\\Lib\\site-packages\\ultralytics\\assets'.\n",
      "WARNING  'source' is missing. Using 'source=C:\\Users\\79252\\Desktop\\\\   2025\\env\\Lib\\site-packages\\ultralytics\\assets'.\n",
      "WARNING  'source' is missing. Using 'source=C:\\Users\\79252\\Desktop\\\\   2025\\env\\Lib\\site-packages\\ultralytics\\assets'.\n",
      "WARNING  'source' is missing. Using 'source=C:\\Users\\79252\\Desktop\\\\   2025\\env\\Lib\\site-packages\\ultralytics\\assets'.\n",
      "WARNING  'source' is missing. Using 'source=C:\\Users\\79252\\Desktop\\\\   2025\\env\\Lib\\site-packages\\ultralytics\\assets'.\n",
      "WARNING  'source' is missing. Using 'source=C:\\Users\\79252\\Desktop\\\\   2025\\env\\Lib\\site-packages\\ultralytics\\assets'.\n",
      "WARNING  'source' is missing. Using 'source=C:\\Users\\79252\\Desktop\\\\   2025\\env\\Lib\\site-packages\\ultralytics\\assets'.\n",
      "WARNING  'source' is missing. Using 'source=C:\\Users\\79252\\Desktop\\\\   2025\\env\\Lib\\site-packages\\ultralytics\\assets'.\n",
      "WARNING  'source' is missing. Using 'source=C:\\Users\\79252\\Desktop\\\\   2025\\env\\Lib\\site-packages\\ultralytics\\assets'.\n",
      "WARNING  'source' is missing. Using 'source=C:\\Users\\79252\\Desktop\\\\   2025\\env\\Lib\\site-packages\\ultralytics\\assets'.\n",
      "WARNING  'source' is missing. Using 'source=C:\\Users\\79252\\Desktop\\\\   2025\\env\\Lib\\site-packages\\ultralytics\\assets'.\n",
      "WARNING  'source' is missing. Using 'source=C:\\Users\\79252\\Desktop\\\\   2025\\env\\Lib\\site-packages\\ultralytics\\assets'.\n",
      "WARNING  'source' is missing. Using 'source=C:\\Users\\79252\\Desktop\\\\   2025\\env\\Lib\\site-packages\\ultralytics\\assets'.\n",
      "WARNING  'source' is missing. Using 'source=C:\\Users\\79252\\Desktop\\\\   2025\\env\\Lib\\site-packages\\ultralytics\\assets'.\n",
      "WARNING  'source' is missing. Using 'source=C:\\Users\\79252\\Desktop\\\\   2025\\env\\Lib\\site-packages\\ultralytics\\assets'.\n",
      "WARNING  'source' is missing. Using 'source=C:\\Users\\79252\\Desktop\\\\   2025\\env\\Lib\\site-packages\\ultralytics\\assets'.\n",
      "WARNING  'source' is missing. Using 'source=C:\\Users\\79252\\Desktop\\\\   2025\\env\\Lib\\site-packages\\ultralytics\\assets'.\n",
      "WARNING  'source' is missing. Using 'source=C:\\Users\\79252\\Desktop\\\\   2025\\env\\Lib\\site-packages\\ultralytics\\assets'.\n",
      "WARNING  'source' is missing. Using 'source=C:\\Users\\79252\\Desktop\\\\   2025\\env\\Lib\\site-packages\\ultralytics\\assets'.\n",
      "WARNING  'source' is missing. Using 'source=C:\\Users\\79252\\Desktop\\\\   2025\\env\\Lib\\site-packages\\ultralytics\\assets'.\n",
      "WARNING  'source' is missing. Using 'source=C:\\Users\\79252\\Desktop\\\\   2025\\env\\Lib\\site-packages\\ultralytics\\assets'.\n",
      "WARNING  'source' is missing. Using 'source=C:\\Users\\79252\\Desktop\\\\   2025\\env\\Lib\\site-packages\\ultralytics\\assets'.\n",
      "WARNING  'source' is missing. Using 'source=C:\\Users\\79252\\Desktop\\\\   2025\\env\\Lib\\site-packages\\ultralytics\\assets'.\n",
      "WARNING  'source' is missing. Using 'source=C:\\Users\\79252\\Desktop\\\\   2025\\env\\Lib\\site-packages\\ultralytics\\assets'.\n",
      "WARNING  'source' is missing. Using 'source=C:\\Users\\79252\\Desktop\\\\   2025\\env\\Lib\\site-packages\\ultralytics\\assets'.\n",
      "WARNING  'source' is missing. Using 'source=C:\\Users\\79252\\Desktop\\\\   2025\\env\\Lib\\site-packages\\ultralytics\\assets'.\n",
      "WARNING  'source' is missing. Using 'source=C:\\Users\\79252\\Desktop\\\\   2025\\env\\Lib\\site-packages\\ultralytics\\assets'.\n",
      "WARNING  'source' is missing. Using 'source=C:\\Users\\79252\\Desktop\\\\   2025\\env\\Lib\\site-packages\\ultralytics\\assets'.\n",
      "WARNING  'source' is missing. Using 'source=C:\\Users\\79252\\Desktop\\\\   2025\\env\\Lib\\site-packages\\ultralytics\\assets'.\n",
      "WARNING  'source' is missing. Using 'source=C:\\Users\\79252\\Desktop\\\\   2025\\env\\Lib\\site-packages\\ultralytics\\assets'.\n",
      "WARNING  'source' is missing. Using 'source=C:\\Users\\79252\\Desktop\\\\   2025\\env\\Lib\\site-packages\\ultralytics\\assets'.\n",
      "WARNING  'source' is missing. Using 'source=C:\\Users\\79252\\Desktop\\\\   2025\\env\\Lib\\site-packages\\ultralytics\\assets'.\n",
      "WARNING  'source' is missing. Using 'source=C:\\Users\\79252\\Desktop\\\\   2025\\env\\Lib\\site-packages\\ultralytics\\assets'.\n",
      "WARNING  'source' is missing. Using 'source=C:\\Users\\79252\\Desktop\\\\   2025\\env\\Lib\\site-packages\\ultralytics\\assets'.\n",
      "WARNING  'source' is missing. Using 'source=C:\\Users\\79252\\Desktop\\\\   2025\\env\\Lib\\site-packages\\ultralytics\\assets'.\n",
      "WARNING  'source' is missing. Using 'source=C:\\Users\\79252\\Desktop\\\\   2025\\env\\Lib\\site-packages\\ultralytics\\assets'.\n",
      "WARNING  'source' is missing. Using 'source=C:\\Users\\79252\\Desktop\\\\   2025\\env\\Lib\\site-packages\\ultralytics\\assets'.\n",
      "WARNING  'source' is missing. Using 'source=C:\\Users\\79252\\Desktop\\\\   2025\\env\\Lib\\site-packages\\ultralytics\\assets'.\n",
      "WARNING  'source' is missing. Using 'source=C:\\Users\\79252\\Desktop\\\\   2025\\env\\Lib\\site-packages\\ultralytics\\assets'.\n",
      "WARNING  'source' is missing. Using 'source=C:\\Users\\79252\\Desktop\\\\   2025\\env\\Lib\\site-packages\\ultralytics\\assets'.\n",
      "WARNING  'source' is missing. Using 'source=C:\\Users\\79252\\Desktop\\\\   2025\\env\\Lib\\site-packages\\ultralytics\\assets'.\n",
      "WARNING  'source' is missing. Using 'source=C:\\Users\\79252\\Desktop\\\\   2025\\env\\Lib\\site-packages\\ultralytics\\assets'.\n",
      "WARNING  'source' is missing. Using 'source=C:\\Users\\79252\\Desktop\\\\   2025\\env\\Lib\\site-packages\\ultralytics\\assets'.\n",
      "WARNING  'source' is missing. Using 'source=C:\\Users\\79252\\Desktop\\\\   2025\\env\\Lib\\site-packages\\ultralytics\\assets'.\n",
      "WARNING  'source' is missing. Using 'source=C:\\Users\\79252\\Desktop\\\\   2025\\env\\Lib\\site-packages\\ultralytics\\assets'.\n",
      "WARNING  'source' is missing. Using 'source=C:\\Users\\79252\\Desktop\\\\   2025\\env\\Lib\\site-packages\\ultralytics\\assets'.\n",
      "WARNING  'source' is missing. Using 'source=C:\\Users\\79252\\Desktop\\\\   2025\\env\\Lib\\site-packages\\ultralytics\\assets'.\n",
      "WARNING  'source' is missing. Using 'source=C:\\Users\\79252\\Desktop\\\\   2025\\env\\Lib\\site-packages\\ultralytics\\assets'.\n",
      "WARNING  'source' is missing. Using 'source=C:\\Users\\79252\\Desktop\\\\   2025\\env\\Lib\\site-packages\\ultralytics\\assets'.\n",
      "WARNING  'source' is missing. Using 'source=C:\\Users\\79252\\Desktop\\\\   2025\\env\\Lib\\site-packages\\ultralytics\\assets'.\n",
      "WARNING  'source' is missing. Using 'source=C:\\Users\\79252\\Desktop\\\\   2025\\env\\Lib\\site-packages\\ultralytics\\assets'.\n",
      "WARNING  'source' is missing. Using 'source=C:\\Users\\79252\\Desktop\\\\   2025\\env\\Lib\\site-packages\\ultralytics\\assets'.\n",
      "WARNING  'source' is missing. Using 'source=C:\\Users\\79252\\Desktop\\\\   2025\\env\\Lib\\site-packages\\ultralytics\\assets'.\n",
      "WARNING  'source' is missing. Using 'source=C:\\Users\\79252\\Desktop\\\\   2025\\env\\Lib\\site-packages\\ultralytics\\assets'.\n",
      "WARNING  'source' is missing. Using 'source=C:\\Users\\79252\\Desktop\\\\   2025\\env\\Lib\\site-packages\\ultralytics\\assets'.\n",
      "WARNING  'source' is missing. Using 'source=C:\\Users\\79252\\Desktop\\\\   2025\\env\\Lib\\site-packages\\ultralytics\\assets'.\n",
      "WARNING  'source' is missing. Using 'source=C:\\Users\\79252\\Desktop\\\\   2025\\env\\Lib\\site-packages\\ultralytics\\assets'.\n",
      "WARNING  'source' is missing. Using 'source=C:\\Users\\79252\\Desktop\\\\   2025\\env\\Lib\\site-packages\\ultralytics\\assets'.\n",
      "WARNING  'source' is missing. Using 'source=C:\\Users\\79252\\Desktop\\\\   2025\\env\\Lib\\site-packages\\ultralytics\\assets'.\n",
      "WARNING  'source' is missing. Using 'source=C:\\Users\\79252\\Desktop\\\\   2025\\env\\Lib\\site-packages\\ultralytics\\assets'.\n",
      "WARNING  'source' is missing. Using 'source=C:\\Users\\79252\\Desktop\\\\   2025\\env\\Lib\\site-packages\\ultralytics\\assets'.\n",
      "WARNING  'source' is missing. Using 'source=C:\\Users\\79252\\Desktop\\\\   2025\\env\\Lib\\site-packages\\ultralytics\\assets'.\n",
      "WARNING  'source' is missing. Using 'source=C:\\Users\\79252\\Desktop\\\\   2025\\env\\Lib\\site-packages\\ultralytics\\assets'.\n",
      "WARNING  'source' is missing. Using 'source=C:\\Users\\79252\\Desktop\\\\   2025\\env\\Lib\\site-packages\\ultralytics\\assets'.\n",
      "WARNING  'source' is missing. Using 'source=C:\\Users\\79252\\Desktop\\\\   2025\\env\\Lib\\site-packages\\ultralytics\\assets'.\n",
      "WARNING  'source' is missing. Using 'source=C:\\Users\\79252\\Desktop\\\\   2025\\env\\Lib\\site-packages\\ultralytics\\assets'.\n",
      "WARNING  'source' is missing. Using 'source=C:\\Users\\79252\\Desktop\\\\   2025\\env\\Lib\\site-packages\\ultralytics\\assets'.\n",
      "WARNING  'source' is missing. Using 'source=C:\\Users\\79252\\Desktop\\\\   2025\\env\\Lib\\site-packages\\ultralytics\\assets'.\n",
      "WARNING  'source' is missing. Using 'source=C:\\Users\\79252\\Desktop\\\\   2025\\env\\Lib\\site-packages\\ultralytics\\assets'.\n",
      "WARNING  'source' is missing. Using 'source=C:\\Users\\79252\\Desktop\\\\   2025\\env\\Lib\\site-packages\\ultralytics\\assets'.\n",
      "WARNING  'source' is missing. Using 'source=C:\\Users\\79252\\Desktop\\\\   2025\\env\\Lib\\site-packages\\ultralytics\\assets'.\n",
      "WARNING  'source' is missing. Using 'source=C:\\Users\\79252\\Desktop\\\\   2025\\env\\Lib\\site-packages\\ultralytics\\assets'.\n",
      "WARNING  'source' is missing. Using 'source=C:\\Users\\79252\\Desktop\\\\   2025\\env\\Lib\\site-packages\\ultralytics\\assets'.\n",
      "WARNING  'source' is missing. Using 'source=C:\\Users\\79252\\Desktop\\\\   2025\\env\\Lib\\site-packages\\ultralytics\\assets'.\n",
      "WARNING  'source' is missing. Using 'source=C:\\Users\\79252\\Desktop\\\\   2025\\env\\Lib\\site-packages\\ultralytics\\assets'.\n",
      "WARNING  'source' is missing. Using 'source=C:\\Users\\79252\\Desktop\\\\   2025\\env\\Lib\\site-packages\\ultralytics\\assets'.\n"
     ]
    }
   ],
   "source": [
    "model_yolo_nano = YOLO(\"yolo11n.pt\")\n",
    "\n",
    "get_video_with_people(input_path=FILE_PATH, output_path='results/output_yolo_nano.mp4', \n",
    "                      model = model_yolo_nano, get_bboxes_func = get_bboxes_yolo , desired_class = 0)\n"
   ]
  },
  {
   "cell_type": "markdown",
   "metadata": {},
   "source": [
    "Сначала прогоним YOLOv11 nano. Модель достаточно быстро отработала, но на видео распознала далеко не всех людей"
   ]
  },
  {
   "cell_type": "code",
   "execution_count": null,
   "metadata": {},
   "outputs": [
    {
     "name": "stdout",
     "output_type": "stream",
     "text": [
      "Видео обработано и сохранено в файл: results/output_yolo_extra_large.mp4\n"
     ]
    }
   ],
   "source": [
    "model_yolo_extra_large = YOLO(\"yolo11x.pt\")\n",
    "get_video_with_people(input_path=FILE_PATH, output_path='results/output_yolo_extra_large.mp4', \n",
    "                      model = model_yolo_extra_large, get_bboxes_func = get_bboxes_yolo , desired_class = 0)"
   ]
  },
  {
   "cell_type": "markdown",
   "metadata": {},
   "source": [
    "Теперь возьмем YOLOv11 extra large. Инференс намного дольше, но и качество также сильно выше"
   ]
  },
  {
   "cell_type": "markdown",
   "metadata": {},
   "source": [
    "Теперь попробуем DETR из библиотеки transformers. Эта модель имеет в себе как и сверточные слои, так и подстроенную под задачу детекции часть архитектуры трансформер.  \n",
    "На ней качество должно быть намного лучше"
   ]
  },
  {
   "cell_type": "code",
   "execution_count": null,
   "metadata": {},
   "outputs": [
    {
     "name": "stderr",
     "output_type": "stream",
     "text": [
      "c:\\Users\\79252\\Desktop\\Программирование\\Тестовое задание Консалтинг 2025\\env\\lib\\site-packages\\tqdm\\auto.py:21: TqdmWarning: IProgress not found. Please update jupyter and ipywidgets. See https://ipywidgets.readthedocs.io/en/stable/user_install.html\n",
      "  from .autonotebook import tqdm as notebook_tqdm\n"
     ]
    }
   ],
   "source": [
    "from transformers import AutoImageProcessor, DetrForObjectDetection\n",
    "import torch"
   ]
  },
  {
   "cell_type": "code",
   "execution_count": null,
   "metadata": {},
   "outputs": [
    {
     "ename": "ImportError",
     "evalue": "\nDetrConvEncoder requires the timm library but it was not found in your environment. You can install it with pip:\n`pip install timm`. Please note that you may need to restart your runtime after installation.\n",
     "output_type": "error",
     "traceback": [
      "\u001b[1;31m---------------------------------------------------------------------------\u001b[0m",
      "\u001b[1;31mImportError\u001b[0m                               Traceback (most recent call last)",
      "Cell \u001b[1;32mIn[9], line 2\u001b[0m\n\u001b[0;32m      1\u001b[0m image_processor_for_detr \u001b[38;5;241m=\u001b[39m AutoImageProcessor\u001b[38;5;241m.\u001b[39mfrom_pretrained(\u001b[38;5;124m\"\u001b[39m\u001b[38;5;124mfacebook/detr-resnet-50\u001b[39m\u001b[38;5;124m\"\u001b[39m,use_fast\u001b[38;5;241m=\u001b[39m\u001b[38;5;28;01mTrue\u001b[39;00m)\n\u001b[1;32m----> 2\u001b[0m model_detr \u001b[38;5;241m=\u001b[39m \u001b[43mDetrForObjectDetection\u001b[49m\u001b[38;5;241;43m.\u001b[39;49m\u001b[43mfrom_pretrained\u001b[49m\u001b[43m(\u001b[49m\u001b[38;5;124;43m\"\u001b[39;49m\u001b[38;5;124;43mfacebook/detr-resnet-50\u001b[39;49m\u001b[38;5;124;43m\"\u001b[39;49m\u001b[43m)\u001b[49m\n",
      "File \u001b[1;32mc:\\Users\\79252\\Desktop\\Программирование\\Тестовое задание Консалтинг 2025\\env\\lib\\site-packages\\transformers\\modeling_utils.py:262\u001b[0m, in \u001b[0;36mrestore_default_torch_dtype.<locals>._wrapper\u001b[1;34m(*args, **kwargs)\u001b[0m\n\u001b[0;32m    260\u001b[0m old_dtype \u001b[38;5;241m=\u001b[39m torch\u001b[38;5;241m.\u001b[39mget_default_dtype()\n\u001b[0;32m    261\u001b[0m \u001b[38;5;28;01mtry\u001b[39;00m:\n\u001b[1;32m--> 262\u001b[0m     \u001b[38;5;28;01mreturn\u001b[39;00m func(\u001b[38;5;241m*\u001b[39margs, \u001b[38;5;241m*\u001b[39m\u001b[38;5;241m*\u001b[39mkwargs)\n\u001b[0;32m    263\u001b[0m \u001b[38;5;28;01mfinally\u001b[39;00m:\n\u001b[0;32m    264\u001b[0m     torch\u001b[38;5;241m.\u001b[39mset_default_dtype(old_dtype)\n",
      "File \u001b[1;32mc:\\Users\\79252\\Desktop\\Программирование\\Тестовое задание Консалтинг 2025\\env\\lib\\site-packages\\transformers\\modeling_utils.py:4185\u001b[0m, in \u001b[0;36mPreTrainedModel.from_pretrained\u001b[1;34m(cls, pretrained_model_name_or_path, config, cache_dir, ignore_mismatched_sizes, force_download, local_files_only, token, revision, use_safetensors, weights_only, *model_args, **kwargs)\u001b[0m\n\u001b[0;32m   4179\u001b[0m     config \u001b[38;5;241m=\u001b[39m \u001b[38;5;28mcls\u001b[39m\u001b[38;5;241m.\u001b[39m_autoset_attn_implementation(\n\u001b[0;32m   4180\u001b[0m         config, use_flash_attention_2\u001b[38;5;241m=\u001b[39muse_flash_attention_2, torch_dtype\u001b[38;5;241m=\u001b[39mtorch_dtype, device_map\u001b[38;5;241m=\u001b[39mdevice_map\n\u001b[0;32m   4181\u001b[0m     )\n\u001b[0;32m   4183\u001b[0m \u001b[38;5;28;01mwith\u001b[39;00m ContextManagers(init_contexts):\n\u001b[0;32m   4184\u001b[0m     \u001b[38;5;66;03m# Let's make sure we don't run the init function of buffer modules\u001b[39;00m\n\u001b[1;32m-> 4185\u001b[0m     model \u001b[38;5;241m=\u001b[39m \u001b[38;5;28mcls\u001b[39m(config, \u001b[38;5;241m*\u001b[39mmodel_args, \u001b[38;5;241m*\u001b[39m\u001b[38;5;241m*\u001b[39mmodel_kwargs)\n\u001b[0;32m   4187\u001b[0m \u001b[38;5;66;03m# make sure we use the model's config since the __init__ call might have copied it\u001b[39;00m\n\u001b[0;32m   4188\u001b[0m config \u001b[38;5;241m=\u001b[39m model\u001b[38;5;241m.\u001b[39mconfig\n",
      "File \u001b[1;32mc:\\Users\\79252\\Desktop\\Программирование\\Тестовое задание Консалтинг 2025\\env\\lib\\site-packages\\transformers\\models\\detr\\modeling_detr.py:1366\u001b[0m, in \u001b[0;36mDetrForObjectDetection.__init__\u001b[1;34m(self, config)\u001b[0m\n\u001b[0;32m   1363\u001b[0m \u001b[38;5;28msuper\u001b[39m()\u001b[38;5;241m.\u001b[39m\u001b[38;5;21m__init__\u001b[39m(config)\n\u001b[0;32m   1365\u001b[0m \u001b[38;5;66;03m# DETR encoder-decoder model\u001b[39;00m\n\u001b[1;32m-> 1366\u001b[0m \u001b[38;5;28mself\u001b[39m\u001b[38;5;241m.\u001b[39mmodel \u001b[38;5;241m=\u001b[39m \u001b[43mDetrModel\u001b[49m\u001b[43m(\u001b[49m\u001b[43mconfig\u001b[49m\u001b[43m)\u001b[49m\n\u001b[0;32m   1368\u001b[0m \u001b[38;5;66;03m# Object detection heads\u001b[39;00m\n\u001b[0;32m   1369\u001b[0m \u001b[38;5;28mself\u001b[39m\u001b[38;5;241m.\u001b[39mclass_labels_classifier \u001b[38;5;241m=\u001b[39m nn\u001b[38;5;241m.\u001b[39mLinear(\n\u001b[0;32m   1370\u001b[0m     config\u001b[38;5;241m.\u001b[39md_model, config\u001b[38;5;241m.\u001b[39mnum_labels \u001b[38;5;241m+\u001b[39m \u001b[38;5;241m1\u001b[39m\n\u001b[0;32m   1371\u001b[0m )  \u001b[38;5;66;03m# We add one for the \"no object\" class\u001b[39;00m\n",
      "File \u001b[1;32mc:\\Users\\79252\\Desktop\\Программирование\\Тестовое задание Консалтинг 2025\\env\\lib\\site-packages\\transformers\\models\\detr\\modeling_detr.py:1176\u001b[0m, in \u001b[0;36mDetrModel.__init__\u001b[1;34m(self, config)\u001b[0m\n\u001b[0;32m   1173\u001b[0m \u001b[38;5;28msuper\u001b[39m()\u001b[38;5;241m.\u001b[39m\u001b[38;5;21m__init__\u001b[39m(config)\n\u001b[0;32m   1175\u001b[0m \u001b[38;5;66;03m# Create backbone + positional encoding\u001b[39;00m\n\u001b[1;32m-> 1176\u001b[0m backbone \u001b[38;5;241m=\u001b[39m \u001b[43mDetrConvEncoder\u001b[49m\u001b[43m(\u001b[49m\u001b[43mconfig\u001b[49m\u001b[43m)\u001b[49m\n\u001b[0;32m   1177\u001b[0m object_queries \u001b[38;5;241m=\u001b[39m build_position_encoding(config)\n\u001b[0;32m   1178\u001b[0m \u001b[38;5;28mself\u001b[39m\u001b[38;5;241m.\u001b[39mbackbone \u001b[38;5;241m=\u001b[39m DetrConvModel(backbone, object_queries)\n",
      "File \u001b[1;32mc:\\Users\\79252\\Desktop\\Программирование\\Тестовое задание Консалтинг 2025\\env\\lib\\site-packages\\transformers\\models\\detr\\modeling_detr.py:336\u001b[0m, in \u001b[0;36mDetrConvEncoder.__init__\u001b[1;34m(self, config)\u001b[0m\n\u001b[0;32m    332\u001b[0m \u001b[38;5;66;03m# For backwards compatibility we have to use the timm library directly instead of the AutoBackbone API\u001b[39;00m\n\u001b[0;32m    333\u001b[0m \u001b[38;5;28;01mif\u001b[39;00m config\u001b[38;5;241m.\u001b[39muse_timm_backbone:\n\u001b[0;32m    334\u001b[0m     \u001b[38;5;66;03m# We default to values which were previously hard-coded. This enables configurability from the config\u001b[39;00m\n\u001b[0;32m    335\u001b[0m     \u001b[38;5;66;03m# using backbone arguments, while keeping the default behavior the same.\u001b[39;00m\n\u001b[1;32m--> 336\u001b[0m     \u001b[43mrequires_backends\u001b[49m\u001b[43m(\u001b[49m\u001b[38;5;28;43mself\u001b[39;49m\u001b[43m,\u001b[49m\u001b[43m \u001b[49m\u001b[43m[\u001b[49m\u001b[38;5;124;43m\"\u001b[39;49m\u001b[38;5;124;43mtimm\u001b[39;49m\u001b[38;5;124;43m\"\u001b[39;49m\u001b[43m]\u001b[49m\u001b[43m)\u001b[49m\n\u001b[0;32m    337\u001b[0m     kwargs \u001b[38;5;241m=\u001b[39m \u001b[38;5;28mgetattr\u001b[39m(config, \u001b[38;5;124m\"\u001b[39m\u001b[38;5;124mbackbone_kwargs\u001b[39m\u001b[38;5;124m\"\u001b[39m, {})\n\u001b[0;32m    338\u001b[0m     kwargs \u001b[38;5;241m=\u001b[39m {} \u001b[38;5;28;01mif\u001b[39;00m kwargs \u001b[38;5;129;01mis\u001b[39;00m \u001b[38;5;28;01mNone\u001b[39;00m \u001b[38;5;28;01melse\u001b[39;00m kwargs\u001b[38;5;241m.\u001b[39mcopy()\n",
      "File \u001b[1;32mc:\\Users\\79252\\Desktop\\Программирование\\Тестовое задание Консалтинг 2025\\env\\lib\\site-packages\\transformers\\utils\\import_utils.py:1724\u001b[0m, in \u001b[0;36mrequires_backends\u001b[1;34m(obj, backends)\u001b[0m\n\u001b[0;32m   1722\u001b[0m failed \u001b[38;5;241m=\u001b[39m [msg\u001b[38;5;241m.\u001b[39mformat(name) \u001b[38;5;28;01mfor\u001b[39;00m available, msg \u001b[38;5;129;01min\u001b[39;00m checks \u001b[38;5;28;01mif\u001b[39;00m \u001b[38;5;129;01mnot\u001b[39;00m available()]\n\u001b[0;32m   1723\u001b[0m \u001b[38;5;28;01mif\u001b[39;00m failed:\n\u001b[1;32m-> 1724\u001b[0m     \u001b[38;5;28;01mraise\u001b[39;00m \u001b[38;5;167;01mImportError\u001b[39;00m(\u001b[38;5;124m\"\u001b[39m\u001b[38;5;124m\"\u001b[39m\u001b[38;5;241m.\u001b[39mjoin(failed))\n",
      "\u001b[1;31mImportError\u001b[0m: \nDetrConvEncoder requires the timm library but it was not found in your environment. You can install it with pip:\n`pip install timm`. Please note that you may need to restart your runtime after installation.\n"
     ]
    }
   ],
   "source": [
    "image_processor_for_detr = AutoImageProcessor.from_pretrained(\"facebook/detr-resnet-50\",use_fast=True)\n",
    "model_detr = DetrForObjectDetection.from_pretrained(\"facebook/detr-resnet-50\")"
   ]
  },
  {
   "cell_type": "code",
   "execution_count": null,
   "metadata": {},
   "outputs": [],
   "source": [
    "def get_bboxes_detr( model_detr,  img, threshold=0.4):\n",
    "    \n",
    "    inputs = image_processor_for_detr(images=img, return_tensors=\"pt\")\n",
    "    outputs = model_detr(**inputs)\n",
    "\n",
    "    height, width = img.shape[:2]\n",
    "    target_sizes = torch.tensor([[height, width]])\n",
    "    results = image_processor_for_detr.post_process_object_detection(outputs, threshold=0.9, target_sizes=target_sizes)[0]\n",
    "\n",
    "    confidences , classes, boxes  = results[\"scores\"].cpu().detach().numpy(), results[\"labels\"].cpu().detach().numpy(), results[\"boxes\"].cpu().detach().numpy()\n",
    "    return boxes, classes, confidences\n",
    "\n"
   ]
  },
  {
   "cell_type": "code",
   "execution_count": null,
   "metadata": {},
   "outputs": [
    {
     "name": "stdout",
     "output_type": "stream",
     "text": [
      "Видео обработано и сохранено в файл: output_detr.mp4\n"
     ]
    }
   ],
   "source": [
    "get_video_with_people(input_path=FILE_PATH, output_path='results/output_detr.mp4', \n",
    "                      model = model_detr, get_bboxes_func = get_bboxes_detr , desired_class = 1)"
   ]
  },
  {
   "cell_type": "markdown",
   "metadata": {},
   "source": [
    "Как и ожидалось, качество детекции у DETR намного лучше, чем у YOLOv11. При этом инференс был самый долгий"
   ]
  },
  {
   "cell_type": "markdown",
   "metadata": {},
   "source": [
    "Вывод: было попробовано несколько архитектур: YOLOv11 с разным количеством весов и DETR - нейросеть для детекции с attention. Так как задачи сделать распознавание людей в реальном времени не стояло, можно смело брать модель с лучшим качеством распознавания, несмотря на время инференса. В нашем случае это DETR. Если же необходимо выполнять real time детекцию людей, то YOLO, которая была создана именно для этой задачи, прекрасно для этого подойдет.  \n",
    "\n",
    "Как можно улучшить качество распознавания? Если не требуется детектить людей в реальном времени, то можно смело брать трансформерную архитектуру типа DETR и его аналогов, и делать расчеты удаленно.  \n",
    "Если же критично время распознавания, можно брать SSD или YOLO. Улучшать качество возможно, например, с помощью таких вещей, как разбиение изображения на патчи для детекции большего числа объектов ([Ссылка](https://github.com/Koldim2001/YOLO-Patch-Based-Inference)), или другими методами.  \n"
   ]
  }
 ],
 "metadata": {
  "kernelspec": {
   "display_name": "env",
   "language": "python",
   "name": "python3"
  },
  "language_info": {
   "codemirror_mode": {
    "name": "ipython",
    "version": 3
   },
   "file_extension": ".py",
   "mimetype": "text/x-python",
   "name": "python",
   "nbconvert_exporter": "python",
   "pygments_lexer": "ipython3",
   "version": "3.10.11"
  }
 },
 "nbformat": 4,
 "nbformat_minor": 2
}
